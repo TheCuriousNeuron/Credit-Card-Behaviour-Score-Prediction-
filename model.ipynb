{
 "cells": [
  {
   "cell_type": "code",
   "execution_count": 2,
   "id": "f8de9955-7eaf-4122-9f5e-ba1dd5fe1d0d",
   "metadata": {},
   "outputs": [],
   "source": [
    "import pandas as pd"
   ]
  },
  {
   "cell_type": "code",
   "execution_count": 4,
   "id": "837d5c08-d27d-4c7b-b8b6-4bce86006e70",
   "metadata": {},
   "outputs": [],
   "source": [
    "df=pd.read_csv('https://raw.githubusercontent.com/TheCuriousNeuron/Credit-Card-Behaviour-Score-Prediction-/refs/heads/main/train_dataset_final1.csv')"
   ]
  },
  {
   "cell_type": "code",
   "execution_count": 6,
   "id": "8e73401c-ff4c-4d8d-8e88-812ef7e4037d",
   "metadata": {},
   "outputs": [
    {
     "data": {
      "text/html": [
       "<div>\n",
       "<style scoped>\n",
       "    .dataframe tbody tr th:only-of-type {\n",
       "        vertical-align: middle;\n",
       "    }\n",
       "\n",
       "    .dataframe tbody tr th {\n",
       "        vertical-align: top;\n",
       "    }\n",
       "\n",
       "    .dataframe thead th {\n",
       "        text-align: right;\n",
       "    }\n",
       "</style>\n",
       "<table border=\"1\" class=\"dataframe\">\n",
       "  <thead>\n",
       "    <tr style=\"text-align: right;\">\n",
       "      <th></th>\n",
       "      <th>Customer_ID</th>\n",
       "      <th>marriage</th>\n",
       "      <th>sex</th>\n",
       "      <th>education</th>\n",
       "      <th>LIMIT_BAL</th>\n",
       "      <th>age</th>\n",
       "      <th>pay_0</th>\n",
       "      <th>pay_2</th>\n",
       "      <th>pay_3</th>\n",
       "      <th>pay_4</th>\n",
       "      <th>...</th>\n",
       "      <th>Bill_amt6</th>\n",
       "      <th>pay_amt1</th>\n",
       "      <th>pay_amt2</th>\n",
       "      <th>pay_amt3</th>\n",
       "      <th>pay_amt4</th>\n",
       "      <th>pay_amt5</th>\n",
       "      <th>pay_amt6</th>\n",
       "      <th>AVG_Bill_amt</th>\n",
       "      <th>PAY_TO_BILL_ratio</th>\n",
       "      <th>next_month_default</th>\n",
       "    </tr>\n",
       "  </thead>\n",
       "  <tbody>\n",
       "    <tr>\n",
       "      <th>0</th>\n",
       "      <td>5017</td>\n",
       "      <td>2</td>\n",
       "      <td>0</td>\n",
       "      <td>2</td>\n",
       "      <td>60000</td>\n",
       "      <td>25.0</td>\n",
       "      <td>2</td>\n",
       "      <td>2</td>\n",
       "      <td>2</td>\n",
       "      <td>0</td>\n",
       "      <td>...</td>\n",
       "      <td>20750.63</td>\n",
       "      <td>2000.21</td>\n",
       "      <td>0.00</td>\n",
       "      <td>1134.85</td>\n",
       "      <td>1821.78</td>\n",
       "      <td>1500.03</td>\n",
       "      <td>1500.24</td>\n",
       "      <td>41511.50</td>\n",
       "      <td>0.03</td>\n",
       "      <td>0</td>\n",
       "    </tr>\n",
       "    <tr>\n",
       "      <th>1</th>\n",
       "      <td>5018</td>\n",
       "      <td>2</td>\n",
       "      <td>1</td>\n",
       "      <td>1</td>\n",
       "      <td>290000</td>\n",
       "      <td>24.0</td>\n",
       "      <td>0</td>\n",
       "      <td>0</td>\n",
       "      <td>-2</td>\n",
       "      <td>-2</td>\n",
       "      <td>...</td>\n",
       "      <td>1350.30</td>\n",
       "      <td>0.00</td>\n",
       "      <td>0.17</td>\n",
       "      <td>0.00</td>\n",
       "      <td>2700.10</td>\n",
       "      <td>0.00</td>\n",
       "      <td>1349.72</td>\n",
       "      <td>2534.50</td>\n",
       "      <td>0.27</td>\n",
       "      <td>0</td>\n",
       "    </tr>\n",
       "    <tr>\n",
       "      <th>2</th>\n",
       "      <td>5019</td>\n",
       "      <td>1</td>\n",
       "      <td>0</td>\n",
       "      <td>2</td>\n",
       "      <td>180000</td>\n",
       "      <td>63.0</td>\n",
       "      <td>0</td>\n",
       "      <td>0</td>\n",
       "      <td>0</td>\n",
       "      <td>0</td>\n",
       "      <td>...</td>\n",
       "      <td>52991.51</td>\n",
       "      <td>2086.94</td>\n",
       "      <td>2199.99</td>\n",
       "      <td>1845.66</td>\n",
       "      <td>2000.35</td>\n",
       "      <td>1923.00</td>\n",
       "      <td>1999.78</td>\n",
       "      <td>50422.00</td>\n",
       "      <td>0.04</td>\n",
       "      <td>0</td>\n",
       "    </tr>\n",
       "    <tr>\n",
       "      <th>3</th>\n",
       "      <td>5020</td>\n",
       "      <td>1</td>\n",
       "      <td>1</td>\n",
       "      <td>2</td>\n",
       "      <td>210000</td>\n",
       "      <td>43.0</td>\n",
       "      <td>0</td>\n",
       "      <td>0</td>\n",
       "      <td>0</td>\n",
       "      <td>0</td>\n",
       "      <td>...</td>\n",
       "      <td>76945.47</td>\n",
       "      <td>3348.07</td>\n",
       "      <td>3380.91</td>\n",
       "      <td>3400.45</td>\n",
       "      <td>2683.97</td>\n",
       "      <td>2744.00</td>\n",
       "      <td>2892.10</td>\n",
       "      <td>86229.50</td>\n",
       "      <td>0.04</td>\n",
       "      <td>0</td>\n",
       "    </tr>\n",
       "    <tr>\n",
       "      <th>4</th>\n",
       "      <td>5021</td>\n",
       "      <td>2</td>\n",
       "      <td>0</td>\n",
       "      <td>1</td>\n",
       "      <td>280000</td>\n",
       "      <td>32.0</td>\n",
       "      <td>-2</td>\n",
       "      <td>-2</td>\n",
       "      <td>-2</td>\n",
       "      <td>-2</td>\n",
       "      <td>...</td>\n",
       "      <td>1.35</td>\n",
       "      <td>999.78</td>\n",
       "      <td>3186.27</td>\n",
       "      <td>45027.78</td>\n",
       "      <td>2100.09</td>\n",
       "      <td>0.01</td>\n",
       "      <td>0.27</td>\n",
       "      <td>11814.33</td>\n",
       "      <td>0.72</td>\n",
       "      <td>0</td>\n",
       "    </tr>\n",
       "  </tbody>\n",
       "</table>\n",
       "<p>5 rows × 27 columns</p>\n",
       "</div>"
      ],
      "text/plain": [
       "   Customer_ID  marriage  sex  education  LIMIT_BAL   age  pay_0  pay_2  \\\n",
       "0         5017         2    0          2      60000  25.0      2      2   \n",
       "1         5018         2    1          1     290000  24.0      0      0   \n",
       "2         5019         1    0          2     180000  63.0      0      0   \n",
       "3         5020         1    1          2     210000  43.0      0      0   \n",
       "4         5021         2    0          1     280000  32.0     -2     -2   \n",
       "\n",
       "   pay_3  pay_4  ...  Bill_amt6  pay_amt1  pay_amt2  pay_amt3  pay_amt4  \\\n",
       "0      2      0  ...   20750.63   2000.21      0.00   1134.85   1821.78   \n",
       "1     -2     -2  ...    1350.30      0.00      0.17      0.00   2700.10   \n",
       "2      0      0  ...   52991.51   2086.94   2199.99   1845.66   2000.35   \n",
       "3      0      0  ...   76945.47   3348.07   3380.91   3400.45   2683.97   \n",
       "4     -2     -2  ...       1.35    999.78   3186.27  45027.78   2100.09   \n",
       "\n",
       "   pay_amt5  pay_amt6  AVG_Bill_amt  PAY_TO_BILL_ratio  next_month_default  \n",
       "0   1500.03   1500.24      41511.50               0.03                   0  \n",
       "1      0.00   1349.72       2534.50               0.27                   0  \n",
       "2   1923.00   1999.78      50422.00               0.04                   0  \n",
       "3   2744.00   2892.10      86229.50               0.04                   0  \n",
       "4      0.01      0.27      11814.33               0.72                   0  \n",
       "\n",
       "[5 rows x 27 columns]"
      ]
     },
     "execution_count": 6,
     "metadata": {},
     "output_type": "execute_result"
    }
   ],
   "source": [
    "df.head()"
   ]
  },
  {
   "cell_type": "code",
   "execution_count": 8,
   "id": "3120fede-ed2a-43e6-8ba3-745aeedd4872",
   "metadata": {},
   "outputs": [
    {
     "data": {
      "text/plain": [
       "Customer_ID             0\n",
       "marriage                0\n",
       "sex                     0\n",
       "education               0\n",
       "LIMIT_BAL               0\n",
       "age                   126\n",
       "pay_0                   0\n",
       "pay_2                   0\n",
       "pay_3                   0\n",
       "pay_4                   0\n",
       "pay_5                   0\n",
       "pay_6                   0\n",
       "Bill_amt1               0\n",
       "Bill_amt2               0\n",
       "Bill_amt3               0\n",
       "Bill_amt4               0\n",
       "Bill_amt5               0\n",
       "Bill_amt6               0\n",
       "pay_amt1                0\n",
       "pay_amt2                0\n",
       "pay_amt3                0\n",
       "pay_amt4                0\n",
       "pay_amt5                0\n",
       "pay_amt6                0\n",
       "AVG_Bill_amt            0\n",
       "PAY_TO_BILL_ratio       0\n",
       "next_month_default      0\n",
       "dtype: int64"
      ]
     },
     "execution_count": 8,
     "metadata": {},
     "output_type": "execute_result"
    }
   ],
   "source": [
    "df.isnull().sum()"
   ]
  },
  {
   "cell_type": "code",
   "execution_count": 10,
   "id": "d64c956d-02a7-43ae-a87d-0d943b1c716b",
   "metadata": {},
   "outputs": [
    {
     "data": {
      "text/plain": [
       "0"
      ]
     },
     "execution_count": 10,
     "metadata": {},
     "output_type": "execute_result"
    }
   ],
   "source": [
    "df.duplicated().sum()"
   ]
  },
  {
   "cell_type": "code",
   "execution_count": 12,
   "id": "f7f479d1-b048-4258-88fe-360344c7b31d",
   "metadata": {},
   "outputs": [
    {
     "name": "stdout",
     "output_type": "stream",
     "text": [
      "<class 'pandas.core.frame.DataFrame'>\n",
      "RangeIndex: 25247 entries, 0 to 25246\n",
      "Data columns (total 27 columns):\n",
      " #   Column              Non-Null Count  Dtype  \n",
      "---  ------              --------------  -----  \n",
      " 0   Customer_ID         25247 non-null  int64  \n",
      " 1   marriage            25247 non-null  int64  \n",
      " 2   sex                 25247 non-null  int64  \n",
      " 3   education           25247 non-null  int64  \n",
      " 4   LIMIT_BAL           25247 non-null  int64  \n",
      " 5   age                 25121 non-null  float64\n",
      " 6   pay_0               25247 non-null  int64  \n",
      " 7   pay_2               25247 non-null  int64  \n",
      " 8   pay_3               25247 non-null  int64  \n",
      " 9   pay_4               25247 non-null  int64  \n",
      " 10  pay_5               25247 non-null  int64  \n",
      " 11  pay_6               25247 non-null  int64  \n",
      " 12  Bill_amt1           25247 non-null  float64\n",
      " 13  Bill_amt2           25247 non-null  float64\n",
      " 14  Bill_amt3           25247 non-null  float64\n",
      " 15  Bill_amt4           25247 non-null  float64\n",
      " 16  Bill_amt5           25247 non-null  float64\n",
      " 17  Bill_amt6           25247 non-null  float64\n",
      " 18  pay_amt1            25247 non-null  float64\n",
      " 19  pay_amt2            25247 non-null  float64\n",
      " 20  pay_amt3            25247 non-null  float64\n",
      " 21  pay_amt4            25247 non-null  float64\n",
      " 22  pay_amt5            25247 non-null  float64\n",
      " 23  pay_amt6            25247 non-null  float64\n",
      " 24  AVG_Bill_amt        25247 non-null  float64\n",
      " 25  PAY_TO_BILL_ratio   25247 non-null  float64\n",
      " 26  next_month_default  25247 non-null  int64  \n",
      "dtypes: float64(15), int64(12)\n",
      "memory usage: 5.2 MB\n"
     ]
    }
   ],
   "source": [
    "df.info()"
   ]
  },
  {
   "cell_type": "code",
   "execution_count": 22,
   "id": "caaee2b7-d9aa-4a1d-a358-79081e0b7d06",
   "metadata": {},
   "outputs": [
    {
     "name": "stderr",
     "output_type": "stream",
     "text": [
      "/var/folders/24/l6x0hdsx0z75kslgzbwj1_cw0000gn/T/ipykernel_33172/1817544812.py:2: FutureWarning: A value is trying to be set on a copy of a DataFrame or Series through chained assignment using an inplace method.\n",
      "The behavior will change in pandas 3.0. This inplace method will never work because the intermediate object on which we are setting values always behaves as a copy.\n",
      "\n",
      "For example, when doing 'df[col].method(value, inplace=True)', try using 'df.method({col: value}, inplace=True)' or df[col] = df[col].method(value) instead, to perform the operation inplace on the original object.\n",
      "\n",
      "\n",
      "  df['age'].fillna(df['age'].median(), inplace=True)\n"
     ]
    }
   ],
   "source": [
    "df['age'] = pd.to_numeric(df['age'], errors='coerce')\n",
    "df['age'].fillna(df['age'].median(), inplace=True)\n",
    "df['age'] = df['age'].round().astype(int)"
   ]
  },
  {
   "cell_type": "code",
   "execution_count": 24,
   "id": "8a21f8f2-c2e4-4818-841b-6c3806ac74de",
   "metadata": {},
   "outputs": [
    {
     "name": "stdout",
     "output_type": "stream",
     "text": [
      "<class 'pandas.core.series.Series'>\n",
      "RangeIndex: 25247 entries, 0 to 25246\n",
      "Series name: age\n",
      "Non-Null Count  Dtype\n",
      "--------------  -----\n",
      "25247 non-null  int64\n",
      "dtypes: int64(1)\n",
      "memory usage: 197.4 KB\n"
     ]
    }
   ],
   "source": [
    "df['age'].info()"
   ]
  },
  {
   "cell_type": "code",
   "execution_count": 26,
   "id": "118617a1-819f-4041-a272-9483ba18e45b",
   "metadata": {},
   "outputs": [
    {
     "data": {
      "text/plain": [
       "array([2, 1, 3, 0])"
      ]
     },
     "execution_count": 26,
     "metadata": {},
     "output_type": "execute_result"
    }
   ],
   "source": [
    "df['marriage'].unique()"
   ]
  },
  {
   "cell_type": "code",
   "execution_count": 30,
   "id": "474ed590-d63a-43af-9079-85b6905b9ec0",
   "metadata": {},
   "outputs": [
    {
     "data": {
      "text/plain": [
       "marriage\n",
       "2    13441\n",
       "1    11480\n",
       "3      273\n",
       "0       53\n",
       "Name: count, dtype: int64"
      ]
     },
     "execution_count": 30,
     "metadata": {},
     "output_type": "execute_result"
    }
   ],
   "source": [
    "df['marriage'].value_counts()"
   ]
  },
  {
   "cell_type": "code",
   "execution_count": 32,
   "id": "121aca6b-e552-4921-a5d8-f8cbb385398f",
   "metadata": {},
   "outputs": [],
   "source": [
    "df['marriage'] = df['marriage'].replace(0, 3)"
   ]
  },
  {
   "cell_type": "code",
   "execution_count": 34,
   "id": "ab63ddb7-cf05-4264-99ae-3543c280bf32",
   "metadata": {},
   "outputs": [
    {
     "data": {
      "text/plain": [
       "sex\n",
       "1    15252\n",
       "0     9995\n",
       "Name: count, dtype: int64"
      ]
     },
     "execution_count": 34,
     "metadata": {},
     "output_type": "execute_result"
    }
   ],
   "source": [
    "df['sex'].value_counts()"
   ]
  },
  {
   "cell_type": "code",
   "execution_count": 36,
   "id": "35d6cc72-622a-4272-9532-6412cf176917",
   "metadata": {},
   "outputs": [
    {
     "data": {
      "text/plain": [
       "education\n",
       "2    11717\n",
       "1     8988\n",
       "3     4115\n",
       "5      253\n",
       "4      116\n",
       "6       44\n",
       "0       14\n",
       "Name: count, dtype: int64"
      ]
     },
     "execution_count": 36,
     "metadata": {},
     "output_type": "execute_result"
    }
   ],
   "source": [
    "df['education'].value_counts()"
   ]
  },
  {
   "cell_type": "code",
   "execution_count": 38,
   "id": "eca236f8-0c37-4202-94b4-2869934e19fe",
   "metadata": {},
   "outputs": [],
   "source": [
    "df['education']=df['education'].replace([0,5,6],4)"
   ]
  },
  {
   "cell_type": "code",
   "execution_count": 40,
   "id": "a9150822-f2d9-4086-9853-cff1b6a22ec0",
   "metadata": {},
   "outputs": [
    {
     "data": {
      "text/plain": [
       "marriage\n",
       "2    13441\n",
       "1    11480\n",
       "3      326\n",
       "Name: count, dtype: int64"
      ]
     },
     "execution_count": 40,
     "metadata": {},
     "output_type": "execute_result"
    }
   ],
   "source": [
    "df['marriage'].value_counts()"
   ]
  },
  {
   "cell_type": "code",
   "execution_count": 42,
   "id": "3a34fa4b-3c41-4cec-a402-9c749a08d186",
   "metadata": {},
   "outputs": [
    {
     "data": {
      "text/plain": [
       "education\n",
       "2    11717\n",
       "1     8988\n",
       "3     4115\n",
       "4      427\n",
       "Name: count, dtype: int64"
      ]
     },
     "execution_count": 42,
     "metadata": {},
     "output_type": "execute_result"
    }
   ],
   "source": [
    "df['education'].value_counts()"
   ]
  },
  {
   "cell_type": "code",
   "execution_count": null,
   "id": "65ed6c42-f043-4db3-8ebd-5c07c549c8e7",
   "metadata": {},
   "outputs": [],
   "source": []
  }
 ],
 "metadata": {
  "kernelspec": {
   "display_name": "Python [conda env:base] *",
   "language": "python",
   "name": "conda-base-py"
  },
  "language_info": {
   "codemirror_mode": {
    "name": "ipython",
    "version": 3
   },
   "file_extension": ".py",
   "mimetype": "text/x-python",
   "name": "python",
   "nbconvert_exporter": "python",
   "pygments_lexer": "ipython3",
   "version": "3.12.7"
  }
 },
 "nbformat": 4,
 "nbformat_minor": 5
}
